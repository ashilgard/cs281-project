{
 "cells": [
  {
   "cell_type": "code",
   "execution_count": 1,
   "metadata": {
    "collapsed": true
   },
   "outputs": [],
   "source": [
    "import numpy as np\n",
    "import pandas as pd"
   ]
  },
  {
   "cell_type": "code",
   "execution_count": 2,
   "metadata": {},
   "outputs": [],
   "source": [
    "#Collect Data, and mapping \n",
    "raw = pd.read_csv('./Podaters/all_individual_differences.csv',encoding ='latin1', low_memory=False)\n",
    "mapping = pd.read_csv('./Podaters/user_id_mapping.csv', encoding = 'latin1', delimiter=' ', low_memory=False)\n",
    "mapping.columns = ['new', 'old']\n",
    "mapping.index = range(1,len(mapping)+1)\n",
    "top = {'new':[0], 'old':[51]}\n",
    "orig = pd.DataFrame(data = top)\n",
    "maps = pd.DataFrame.append(orig, mapping)"
   ]
  },
  {
   "cell_type": "code",
   "execution_count": 3,
   "metadata": {},
   "outputs": [
    {
     "name": "stdout",
     "output_type": "stream",
     "text": [
      "23     51.0\n",
      "30     63.0\n",
      "31     65.0\n",
      "41     93.0\n",
      "50    116.0\n",
      "51    121.0\n",
      "56    131.0\n",
      "59    140.0\n",
      "60    142.0\n",
      "61    144.0\n",
      "Name: user_id, dtype: float64\n"
     ]
    }
   ],
   "source": [
    "#Get all the pips with year4 IDs\n",
    "yr4ind = ~pd.isnull(raw['userid_yr4'])\n",
    "yr4 = raw[yr4ind]\n",
    "print(yr4['user_id'][0:10])"
   ]
  },
  {
   "cell_type": "code",
   "execution_count": 95,
   "metadata": {},
   "outputs": [
    {
     "name": "stderr",
     "output_type": "stream",
     "text": [
      "/anaconda3/lib/python3.6/site-packages/pandas/core/indexing.py:517: SettingWithCopyWarning: \n",
      "A value is trying to be set on a copy of a slice from a DataFrame.\n",
      "Try using .loc[row_indexer,col_indexer] = value instead\n",
      "\n",
      "See the caveats in the documentation: http://pandas.pydata.org/pandas-docs/stable/indexing.html#indexing-view-versus-copy\n",
      "  self.obj[item] = s\n"
     ]
    },
    {
     "name": "stdout",
     "output_type": "stream",
     "text": [
      "(915, 1539)\n"
     ]
    }
   ],
   "source": [
    "#Get all the pips in year4 who are in the mapping \n",
    "#And change their ID's to be those in the mapping \n",
    "#This is needlessly slow, sry \n",
    "\n",
    "# subframe = yr4[yr4['user_id'].isin(maps['old'])]\n",
    "# subframe.loc[:,'user_id'] = maps['new'][subframe['user_id'].isin(maps['old'])]\n",
    "subframe = pd.DataFrame(columns = yr4.columns)\n",
    "for i in range(len(maps)): \n",
    "    mask = yr4['userid_yr4'] == maps['old'][i]\n",
    "    if(np.sum(mask) > 0): \n",
    "        keep = yr4[mask]\n",
    "        keep.loc[:,'user_id'] = maps['new'][i]\n",
    "        subframe = subframe.append(keep)   \n",
    "\n",
    "subframe.index = np.arange(len(subframe))\n",
    "print(subframe.shape)"
   ]
  },
  {
   "cell_type": "code",
   "execution_count": 102,
   "metadata": {},
   "outputs": [],
   "source": [
    "#make array of features to keep: \n",
    "keep_feats = \\\n",
    "np.array([\n",
    "    ['user_id', 0,0], \n",
    "    ['gender_yr4', 0,0],\n",
    "    ['citizen_yr4', 0,0],\n",
    "    ['workhours_yr4', 0,0],\n",
    "    ['tradeexp_yr4', 0,0],\n",
    "    ['tradeenjoy_yr4', 0,0], \n",
    "    ['newshrs_yr4', 0,0], \n",
    "    ['raven_score_yr4', 0,0], \n",
    "    ['crt_score_yr4',0,0], \n",
    "    ['crt_?_cor_yr4',1,18],\n",
    "    ['numeracy_score_yr4', 0,0],\n",
    "    ['cpk_correct_?', 1, 32],\n",
    "    ['cpk_score_china'],\n",
    "    ['cpk_score_globecon'],\n",
    "    ['cpk_score_iran'],\n",
    "    ['cpk_score_russia'],\n",
    "    ['gpk_?',1,13],\n",
    "    ['gpk_correct_?', 1,13],\n",
    "    ['gpk_score',0,0], \n",
    "    ['aomt_?_yr4',1,9], \n",
    "    ['aomt_score_yr4',0,0],\n",
    "    ['cultwv_ind_score_yr4',0,0], \n",
    "    ['cultwv_hier_score_yr4',0,0],\n",
    "    ['cultwv_ind_?_yr4',1,6], \n",
    "    ['cultwv_hier_?_yr4',7,12], \n",
    "    ['nfcog_?_yr4',1,18], \n",
    "    ['nfcog_score_yr4',0,0], \n",
    "    ['memory_math_correct_?',1,6],\n",
    "    ['memory_word_correct_?',1,6], \n",
    "    ['memory_math_score', 0,0],\n",
    "    ['memory_word_score',0,0], \n",
    "    ['helping_score', 0,0], \n",
    "    ['orgcommit_?',1,5], \n",
    "    ['helping_?', 1,3], \n",
    "    ['motivation_?',1,8], \n",
    "    ['motivation_intrinsic_score',0,0], \n",
    "    ['motivation_prosocial_score',0,0], \n",
    "    ['motivation_extrinsic_score',0,0], \n",
    "    ['age', 0,0]\n",
    "])\n",
    "\n",
    "tot_feats = []\n",
    "for i in range(keep_feats.size): \n",
    "    if '?' in keep_feats[i][0]: \n",
    "#         exp_feat = np.empty(keep_feats[i][2] - keep_feats[i][1] + 1)\n",
    "        for j in range(keep_feats[i][1], keep_feats[i][2]+1): \n",
    "            new_feat = keep_feats[i][0].replace('?', str(j))\n",
    "            if (subframe.columns.contains(new_feat)): \n",
    "                tot_feats.append(new_feat)\n",
    "            else: \n",
    "                print('feature', new_feat, 'is not in subframe')\n",
    "    else: \n",
    "        tot_feats.append(keep_feats[i][0])\n"
   ]
  },
  {
   "cell_type": "code",
   "execution_count": 103,
   "metadata": {},
   "outputs": [
    {
     "name": "stdout",
     "output_type": "stream",
     "text": [
      "(915, 169)\n"
     ]
    }
   ],
   "source": [
    "mask = subframe.columns.isin(tot_feats)\n",
    "cleanframe = subframe[subframe.columns[mask]]\n",
    "print(cleanframe.shape)"
   ]
  },
  {
   "cell_type": "code",
   "execution_count": 104,
   "metadata": {},
   "outputs": [],
   "source": [
    "cleanframe.to_csv('clean_frame.csv', sep='\\t')"
   ]
  }
 ],
 "metadata": {
  "kernelspec": {
   "display_name": "Python 3",
   "language": "python",
   "name": "python3"
  },
  "language_info": {
   "codemirror_mode": {
    "name": "ipython",
    "version": 3
   },
   "file_extension": ".py",
   "mimetype": "text/x-python",
   "name": "python",
   "nbconvert_exporter": "python",
   "pygments_lexer": "ipython3",
   "version": "3.6.2"
  }
 },
 "nbformat": 4,
 "nbformat_minor": 2
}
